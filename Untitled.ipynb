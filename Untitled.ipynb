{
 "cells": [
  {
   "cell_type": "markdown",
   "metadata": {
    "toc": true
   },
   "source": [
    "<h1>Table of Contents<span class=\"tocSkip\"></span></h1>\n",
    "<div class=\"toc\"><ul class=\"toc-item\"><li><span><a href=\"#Read-Business-dataset\" data-toc-modified-id=\"Read-Business-dataset-1\"><span class=\"toc-item-num\">1&nbsp;&nbsp;</span>Read Business dataset</a></span><ul class=\"toc-item\"><li><ul class=\"toc-item\"><li><span><a href=\"#There-are-some-businesses-with-only-1-category,-some-with-37\" data-toc-modified-id=\"There-are-some-businesses-with-only-1-category,-some-with-37-1.0.1\"><span class=\"toc-item-num\">1.0.1&nbsp;&nbsp;</span>There are some businesses with only 1 category, some with 37</a></span></li><li><span><a href=\"#Keep-only-businesses-with-Restaurants-/-Food-/-Nightlife-as-one-of-the-categories\" data-toc-modified-id=\"Keep-only-businesses-with-Restaurants-/-Food-/-Nightlife-as-one-of-the-categories-1.0.2\"><span class=\"toc-item-num\">1.0.2&nbsp;&nbsp;</span>Keep only businesses with Restaurants / Food / Nightlife as one of the categories</a></span></li><li><span><a href=\"#Let's-call-it-df_fb-for-food-&amp;-beverage-businesses\" data-toc-modified-id=\"Let's-call-it-df_fb-for-food-&amp;-beverage-businesses-1.0.3\"><span class=\"toc-item-num\">1.0.3&nbsp;&nbsp;</span>Let's call it df_fb for food &amp; beverage businesses</a></span></li></ul></li></ul></li><li><span><a href=\"#Loading-Review-dataset-in-chunks\" data-toc-modified-id=\"Loading-Review-dataset-in-chunks-2\"><span class=\"toc-item-num\">2&nbsp;&nbsp;</span>Loading Review dataset in chunks</a></span></li><li><span><a href=\"#For-each-cuisine-required,-output-the-subset-of-concatenated-reviews\" data-toc-modified-id=\"For-each-cuisine-required,-output-the-subset-of-concatenated-reviews-3\"><span class=\"toc-item-num\">3&nbsp;&nbsp;</span>For each cuisine required, output the subset of concatenated reviews</a></span></li><li><span><a href=\"#Convert-a-dataframe-of-all-cuisine-reveiws-into-a-TfIdf-DTM\" data-toc-modified-id=\"Convert-a-dataframe-of-all-cuisine-reveiws-into-a-TfIdf-DTM-4\"><span class=\"toc-item-num\">4&nbsp;&nbsp;</span>Convert a dataframe of all cuisine reveiws into a TfIdf DTM</a></span></li></ul></div>"
   ]
  },
  {
   "cell_type": "markdown",
   "metadata": {},
   "source": [
    "# Read Business dataset "
   ]
  },
  {
   "cell_type": "code",
   "execution_count": 1,
   "metadata": {},
   "outputs": [],
   "source": [
    "import pandas as pd\n",
    "\n",
    "review_json_path = '../data/yelp_academic_dataset_review.json'\n",
    "business_json_path = '../data/yelp_academic_dataset_business.json'\n",
    "df_b = pd.read_json(business_json_path, lines=True)"
   ]
  },
  {
   "cell_type": "code",
   "execution_count": 2,
   "metadata": {},
   "outputs": [
    {
     "data": {
      "text/html": [
       "<div>\n",
       "<style scoped>\n",
       "    .dataframe tbody tr th:only-of-type {\n",
       "        vertical-align: middle;\n",
       "    }\n",
       "\n",
       "    .dataframe tbody tr th {\n",
       "        vertical-align: top;\n",
       "    }\n",
       "\n",
       "    .dataframe thead th {\n",
       "        text-align: right;\n",
       "    }\n",
       "</style>\n",
       "<table border=\"1\" class=\"dataframe\">\n",
       "  <thead>\n",
       "    <tr style=\"text-align: right;\">\n",
       "      <th></th>\n",
       "      <th>business_id</th>\n",
       "      <th>name</th>\n",
       "      <th>address</th>\n",
       "      <th>city</th>\n",
       "      <th>state</th>\n",
       "      <th>postal_code</th>\n",
       "      <th>latitude</th>\n",
       "      <th>longitude</th>\n",
       "      <th>stars</th>\n",
       "      <th>review_count</th>\n",
       "      <th>is_open</th>\n",
       "      <th>attributes</th>\n",
       "      <th>categories</th>\n",
       "      <th>hours</th>\n",
       "    </tr>\n",
       "  </thead>\n",
       "  <tbody>\n",
       "    <tr>\n",
       "      <th>0</th>\n",
       "      <td>6iYb2HFDywm3zjuRg0shjw</td>\n",
       "      <td>Oskar Blues Taproom</td>\n",
       "      <td>921 Pearl St</td>\n",
       "      <td>Boulder</td>\n",
       "      <td>CO</td>\n",
       "      <td>80302</td>\n",
       "      <td>40.017544</td>\n",
       "      <td>-105.283348</td>\n",
       "      <td>4.0</td>\n",
       "      <td>86</td>\n",
       "      <td>1</td>\n",
       "      <td>{'RestaurantsTableService': 'True', 'WiFi': 'u...</td>\n",
       "      <td>Gastropubs, Food, Beer Gardens, Restaurants, B...</td>\n",
       "      <td>{'Monday': '11:0-23:0', 'Tuesday': '11:0-23:0'...</td>\n",
       "    </tr>\n",
       "    <tr>\n",
       "      <th>1</th>\n",
       "      <td>tCbdrRPZA0oiIYSmHG3J0w</td>\n",
       "      <td>Flying Elephants at PDX</td>\n",
       "      <td>7000 NE Airport Way</td>\n",
       "      <td>Portland</td>\n",
       "      <td>OR</td>\n",
       "      <td>97218</td>\n",
       "      <td>45.588906</td>\n",
       "      <td>-122.593331</td>\n",
       "      <td>4.0</td>\n",
       "      <td>126</td>\n",
       "      <td>1</td>\n",
       "      <td>{'RestaurantsTakeOut': 'True', 'RestaurantsAtt...</td>\n",
       "      <td>Salad, Soup, Sandwiches, Delis, Restaurants, C...</td>\n",
       "      <td>{'Monday': '5:0-18:0', 'Tuesday': '5:0-17:0', ...</td>\n",
       "    </tr>\n",
       "    <tr>\n",
       "      <th>2</th>\n",
       "      <td>bvN78flM8NLprQ1a1y5dRg</td>\n",
       "      <td>The Reclaimory</td>\n",
       "      <td>4720 Hawthorne Ave</td>\n",
       "      <td>Portland</td>\n",
       "      <td>OR</td>\n",
       "      <td>97214</td>\n",
       "      <td>45.511907</td>\n",
       "      <td>-122.613693</td>\n",
       "      <td>4.5</td>\n",
       "      <td>13</td>\n",
       "      <td>1</td>\n",
       "      <td>{'BusinessAcceptsCreditCards': 'True', 'Restau...</td>\n",
       "      <td>Antiques, Fashion, Used, Vintage &amp; Consignment...</td>\n",
       "      <td>{'Thursday': '11:0-18:0', 'Friday': '11:0-18:0...</td>\n",
       "    </tr>\n",
       "  </tbody>\n",
       "</table>\n",
       "</div>"
      ],
      "text/plain": [
       "              business_id                     name              address  \\\n",
       "0  6iYb2HFDywm3zjuRg0shjw      Oskar Blues Taproom         921 Pearl St   \n",
       "1  tCbdrRPZA0oiIYSmHG3J0w  Flying Elephants at PDX  7000 NE Airport Way   \n",
       "2  bvN78flM8NLprQ1a1y5dRg           The Reclaimory   4720 Hawthorne Ave   \n",
       "\n",
       "       city state postal_code   latitude   longitude  stars  review_count  \\\n",
       "0   Boulder    CO       80302  40.017544 -105.283348    4.0            86   \n",
       "1  Portland    OR       97218  45.588906 -122.593331    4.0           126   \n",
       "2  Portland    OR       97214  45.511907 -122.613693    4.5            13   \n",
       "\n",
       "   is_open                                         attributes  \\\n",
       "0        1  {'RestaurantsTableService': 'True', 'WiFi': 'u...   \n",
       "1        1  {'RestaurantsTakeOut': 'True', 'RestaurantsAtt...   \n",
       "2        1  {'BusinessAcceptsCreditCards': 'True', 'Restau...   \n",
       "\n",
       "                                          categories  \\\n",
       "0  Gastropubs, Food, Beer Gardens, Restaurants, B...   \n",
       "1  Salad, Soup, Sandwiches, Delis, Restaurants, C...   \n",
       "2  Antiques, Fashion, Used, Vintage & Consignment...   \n",
       "\n",
       "                                               hours  \n",
       "0  {'Monday': '11:0-23:0', 'Tuesday': '11:0-23:0'...  \n",
       "1  {'Monday': '5:0-18:0', 'Tuesday': '5:0-17:0', ...  \n",
       "2  {'Thursday': '11:0-18:0', 'Friday': '11:0-18:0...  "
      ]
     },
     "execution_count": 2,
     "metadata": {},
     "output_type": "execute_result"
    }
   ],
   "source": [
    "df_b.head(3)"
   ]
  },
  {
   "cell_type": "code",
   "execution_count": 3,
   "metadata": {},
   "outputs": [],
   "source": [
    "# 1 = open, 0 = closed\n",
    "df_b = df_b[df_b['is_open']==1]"
   ]
  },
  {
   "cell_type": "code",
   "execution_count": 4,
   "metadata": {},
   "outputs": [
    {
     "data": {
      "text/plain": [
       "1725472"
      ]
     },
     "execution_count": 4,
     "metadata": {},
     "output_type": "execute_result"
    }
   ],
   "source": [
    "df_b.size"
   ]
  },
  {
   "cell_type": "code",
   "execution_count": 5,
   "metadata": {},
   "outputs": [],
   "source": [
    "to_drop = ['address','state','postal_code','latitude','longitude','hours','is_open','stars']\n",
    "df_b = df_b.drop(to_drop, axis=1)"
   ]
  },
  {
   "cell_type": "code",
   "execution_count": 6,
   "metadata": {},
   "outputs": [
    {
     "data": {
      "text/plain": [
       "0         {'RestaurantsTableService': 'True', 'WiFi': 'u...\n",
       "1         {'RestaurantsTakeOut': 'True', 'RestaurantsAtt...\n",
       "2         {'BusinessAcceptsCreditCards': 'True', 'Restau...\n",
       "3         {'RestaurantsPriceRange2': '1', 'BusinessAccep...\n",
       "4         {'GoodForKids': 'False', 'BusinessParking': '{...\n",
       "                                ...                        \n",
       "160578               {'BusinessAcceptsCreditCards': 'True'}\n",
       "160579               {'BusinessAcceptsCreditCards': 'True'}\n",
       "160580                                                 None\n",
       "160581    {'RestaurantsTakeOut': 'True', 'RestaurantsPri...\n",
       "160583    {'RestaurantsTakeOut': 'True', 'RestaurantsDel...\n",
       "Name: attributes, Length: 123248, dtype: object"
      ]
     },
     "execution_count": 6,
     "metadata": {},
     "output_type": "execute_result"
    }
   ],
   "source": [
    "df_b.attributes"
   ]
  },
  {
   "cell_type": "code",
   "execution_count": 7,
   "metadata": {},
   "outputs": [
    {
     "data": {
      "text/plain": [
       "100"
      ]
     },
     "execution_count": 7,
     "metadata": {},
     "output_type": "execute_result"
    }
   ],
   "source": [
    "df_b.categories.isnull().sum()"
   ]
  },
  {
   "cell_type": "code",
   "execution_count": 8,
   "metadata": {},
   "outputs": [],
   "source": [
    "df_b = df_b[df_b.categories.notna()]"
   ]
  },
  {
   "cell_type": "code",
   "execution_count": 9,
   "metadata": {},
   "outputs": [],
   "source": [
    "df_b['cat_list'] =  df_b.categories.str.split(', ')"
   ]
  },
  {
   "cell_type": "code",
   "execution_count": 10,
   "metadata": {},
   "outputs": [],
   "source": [
    "df_b['num_categories'] =  df_b.categories.str.split(', ').map(len)"
   ]
  },
  {
   "cell_type": "code",
   "execution_count": 11,
   "metadata": {},
   "outputs": [
    {
     "data": {
      "text/html": [
       "<div>\n",
       "<style scoped>\n",
       "    .dataframe tbody tr th:only-of-type {\n",
       "        vertical-align: middle;\n",
       "    }\n",
       "\n",
       "    .dataframe tbody tr th {\n",
       "        vertical-align: top;\n",
       "    }\n",
       "\n",
       "    .dataframe thead th {\n",
       "        text-align: right;\n",
       "    }\n",
       "</style>\n",
       "<table border=\"1\" class=\"dataframe\">\n",
       "  <thead>\n",
       "    <tr style=\"text-align: right;\">\n",
       "      <th></th>\n",
       "      <th>business_id</th>\n",
       "      <th>name</th>\n",
       "      <th>city</th>\n",
       "      <th>review_count</th>\n",
       "      <th>attributes</th>\n",
       "      <th>categories</th>\n",
       "      <th>cat_list</th>\n",
       "      <th>num_categories</th>\n",
       "    </tr>\n",
       "  </thead>\n",
       "  <tbody>\n",
       "    <tr>\n",
       "      <th>0</th>\n",
       "      <td>6iYb2HFDywm3zjuRg0shjw</td>\n",
       "      <td>Oskar Blues Taproom</td>\n",
       "      <td>Boulder</td>\n",
       "      <td>86</td>\n",
       "      <td>{'RestaurantsTableService': 'True', 'WiFi': 'u...</td>\n",
       "      <td>Gastropubs, Food, Beer Gardens, Restaurants, B...</td>\n",
       "      <td>[Gastropubs, Food, Beer Gardens, Restaurants, ...</td>\n",
       "      <td>9</td>\n",
       "    </tr>\n",
       "    <tr>\n",
       "      <th>1</th>\n",
       "      <td>tCbdrRPZA0oiIYSmHG3J0w</td>\n",
       "      <td>Flying Elephants at PDX</td>\n",
       "      <td>Portland</td>\n",
       "      <td>126</td>\n",
       "      <td>{'RestaurantsTakeOut': 'True', 'RestaurantsAtt...</td>\n",
       "      <td>Salad, Soup, Sandwiches, Delis, Restaurants, C...</td>\n",
       "      <td>[Salad, Soup, Sandwiches, Delis, Restaurants, ...</td>\n",
       "      <td>7</td>\n",
       "    </tr>\n",
       "    <tr>\n",
       "      <th>2</th>\n",
       "      <td>bvN78flM8NLprQ1a1y5dRg</td>\n",
       "      <td>The Reclaimory</td>\n",
       "      <td>Portland</td>\n",
       "      <td>13</td>\n",
       "      <td>{'BusinessAcceptsCreditCards': 'True', 'Restau...</td>\n",
       "      <td>Antiques, Fashion, Used, Vintage &amp; Consignment...</td>\n",
       "      <td>[Antiques, Fashion, Used, Vintage &amp; Consignmen...</td>\n",
       "      <td>7</td>\n",
       "    </tr>\n",
       "    <tr>\n",
       "      <th>3</th>\n",
       "      <td>oaepsyvc0J17qwi8cfrOWg</td>\n",
       "      <td>Great Clips</td>\n",
       "      <td>Orange City</td>\n",
       "      <td>8</td>\n",
       "      <td>{'RestaurantsPriceRange2': '1', 'BusinessAccep...</td>\n",
       "      <td>Beauty &amp; Spas, Hair Salons</td>\n",
       "      <td>[Beauty &amp; Spas, Hair Salons]</td>\n",
       "      <td>2</td>\n",
       "    </tr>\n",
       "    <tr>\n",
       "      <th>4</th>\n",
       "      <td>PE9uqAjdw0E4-8mjGl3wVA</td>\n",
       "      <td>Crossfit Terminus</td>\n",
       "      <td>Atlanta</td>\n",
       "      <td>14</td>\n",
       "      <td>{'GoodForKids': 'False', 'BusinessParking': '{...</td>\n",
       "      <td>Gyms, Active Life, Interval Training Gyms, Fit...</td>\n",
       "      <td>[Gyms, Active Life, Interval Training Gyms, Fi...</td>\n",
       "      <td>4</td>\n",
       "    </tr>\n",
       "  </tbody>\n",
       "</table>\n",
       "</div>"
      ],
      "text/plain": [
       "              business_id                     name         city  review_count  \\\n",
       "0  6iYb2HFDywm3zjuRg0shjw      Oskar Blues Taproom      Boulder            86   \n",
       "1  tCbdrRPZA0oiIYSmHG3J0w  Flying Elephants at PDX     Portland           126   \n",
       "2  bvN78flM8NLprQ1a1y5dRg           The Reclaimory     Portland            13   \n",
       "3  oaepsyvc0J17qwi8cfrOWg              Great Clips  Orange City             8   \n",
       "4  PE9uqAjdw0E4-8mjGl3wVA        Crossfit Terminus      Atlanta            14   \n",
       "\n",
       "                                          attributes  \\\n",
       "0  {'RestaurantsTableService': 'True', 'WiFi': 'u...   \n",
       "1  {'RestaurantsTakeOut': 'True', 'RestaurantsAtt...   \n",
       "2  {'BusinessAcceptsCreditCards': 'True', 'Restau...   \n",
       "3  {'RestaurantsPriceRange2': '1', 'BusinessAccep...   \n",
       "4  {'GoodForKids': 'False', 'BusinessParking': '{...   \n",
       "\n",
       "                                          categories  \\\n",
       "0  Gastropubs, Food, Beer Gardens, Restaurants, B...   \n",
       "1  Salad, Soup, Sandwiches, Delis, Restaurants, C...   \n",
       "2  Antiques, Fashion, Used, Vintage & Consignment...   \n",
       "3                         Beauty & Spas, Hair Salons   \n",
       "4  Gyms, Active Life, Interval Training Gyms, Fit...   \n",
       "\n",
       "                                            cat_list  num_categories  \n",
       "0  [Gastropubs, Food, Beer Gardens, Restaurants, ...               9  \n",
       "1  [Salad, Soup, Sandwiches, Delis, Restaurants, ...               7  \n",
       "2  [Antiques, Fashion, Used, Vintage & Consignmen...               7  \n",
       "3                       [Beauty & Spas, Hair Salons]               2  \n",
       "4  [Gyms, Active Life, Interval Training Gyms, Fi...               4  "
      ]
     },
     "execution_count": 11,
     "metadata": {},
     "output_type": "execute_result"
    }
   ],
   "source": [
    "df_b.head(5)"
   ]
  },
  {
   "cell_type": "markdown",
   "metadata": {},
   "source": [
    "### There are some businesses with only 1 category, some with 37 "
   ]
  },
  {
   "cell_type": "code",
   "execution_count": 12,
   "metadata": {},
   "outputs": [
    {
     "data": {
      "text/plain": [
       "count    123148.000000\n",
       "mean          4.490654\n",
       "std           2.268107\n",
       "min           1.000000\n",
       "25%           3.000000\n",
       "50%           4.000000\n",
       "75%           6.000000\n",
       "max          37.000000\n",
       "Name: num_categories, dtype: float64"
      ]
     },
     "execution_count": 12,
     "metadata": {},
     "output_type": "execute_result"
    }
   ],
   "source": [
    "df_b['num_categories'].describe()"
   ]
  },
  {
   "cell_type": "code",
   "execution_count": 13,
   "metadata": {},
   "outputs": [
    {
     "data": {
      "text/plain": [
       "985184"
      ]
     },
     "execution_count": 13,
     "metadata": {},
     "output_type": "execute_result"
    }
   ],
   "source": [
    "df_b.size"
   ]
  },
  {
   "cell_type": "markdown",
   "metadata": {},
   "source": [
    "### Keep only businesses with Restaurants / Food / Nightlife as one of the categories"
   ]
  },
  {
   "cell_type": "code",
   "execution_count": 14,
   "metadata": {},
   "outputs": [],
   "source": [
    "df_explode = df_b.assign(categories = df_b.cat_list).explode('categories')"
   ]
  },
  {
   "cell_type": "code",
   "execution_count": 15,
   "metadata": {},
   "outputs": [
    {
     "data": {
      "text/html": [
       "<div>\n",
       "<style scoped>\n",
       "    .dataframe tbody tr th:only-of-type {\n",
       "        vertical-align: middle;\n",
       "    }\n",
       "\n",
       "    .dataframe tbody tr th {\n",
       "        vertical-align: top;\n",
       "    }\n",
       "\n",
       "    .dataframe thead th {\n",
       "        text-align: right;\n",
       "    }\n",
       "</style>\n",
       "<table border=\"1\" class=\"dataframe\">\n",
       "  <thead>\n",
       "    <tr style=\"text-align: right;\">\n",
       "      <th></th>\n",
       "      <th>business_id</th>\n",
       "      <th>name</th>\n",
       "      <th>city</th>\n",
       "      <th>review_count</th>\n",
       "      <th>attributes</th>\n",
       "      <th>categories</th>\n",
       "      <th>cat_list</th>\n",
       "      <th>num_categories</th>\n",
       "    </tr>\n",
       "  </thead>\n",
       "  <tbody>\n",
       "    <tr>\n",
       "      <th>0</th>\n",
       "      <td>6iYb2HFDywm3zjuRg0shjw</td>\n",
       "      <td>Oskar Blues Taproom</td>\n",
       "      <td>Boulder</td>\n",
       "      <td>86</td>\n",
       "      <td>{'RestaurantsTableService': 'True', 'WiFi': 'u...</td>\n",
       "      <td>Gastropubs</td>\n",
       "      <td>[Gastropubs, Food, Beer Gardens, Restaurants, ...</td>\n",
       "      <td>9</td>\n",
       "    </tr>\n",
       "    <tr>\n",
       "      <th>0</th>\n",
       "      <td>6iYb2HFDywm3zjuRg0shjw</td>\n",
       "      <td>Oskar Blues Taproom</td>\n",
       "      <td>Boulder</td>\n",
       "      <td>86</td>\n",
       "      <td>{'RestaurantsTableService': 'True', 'WiFi': 'u...</td>\n",
       "      <td>Food</td>\n",
       "      <td>[Gastropubs, Food, Beer Gardens, Restaurants, ...</td>\n",
       "      <td>9</td>\n",
       "    </tr>\n",
       "  </tbody>\n",
       "</table>\n",
       "</div>"
      ],
      "text/plain": [
       "              business_id                 name     city  review_count  \\\n",
       "0  6iYb2HFDywm3zjuRg0shjw  Oskar Blues Taproom  Boulder            86   \n",
       "0  6iYb2HFDywm3zjuRg0shjw  Oskar Blues Taproom  Boulder            86   \n",
       "\n",
       "                                          attributes  categories  \\\n",
       "0  {'RestaurantsTableService': 'True', 'WiFi': 'u...  Gastropubs   \n",
       "0  {'RestaurantsTableService': 'True', 'WiFi': 'u...        Food   \n",
       "\n",
       "                                            cat_list  num_categories  \n",
       "0  [Gastropubs, Food, Beer Gardens, Restaurants, ...               9  \n",
       "0  [Gastropubs, Food, Beer Gardens, Restaurants, ...               9  "
      ]
     },
     "execution_count": 15,
     "metadata": {},
     "output_type": "execute_result"
    }
   ],
   "source": [
    "df_explode.head(2)"
   ]
  },
  {
   "cell_type": "code",
   "execution_count": 16,
   "metadata": {},
   "outputs": [
    {
     "name": "stdout",
     "output_type": "stream",
     "text": [
      "Total number of categories:  1316\n",
      "Top 10 categories:\n"
     ]
    },
    {
     "data": {
      "text/plain": [
       "Restaurants                  32022\n",
       "Food                         20418\n",
       "Shopping                     20309\n",
       "Home Services                14795\n",
       "Health & Medical             13630\n",
       "Beauty & Spas                13569\n",
       "Local Services               10677\n",
       "Automotive                    8886\n",
       "Event Planning & Services     7856\n",
       "Nightlife                     7829\n",
       "Name: categories, dtype: int64"
      ]
     },
     "execution_count": 16,
     "metadata": {},
     "output_type": "execute_result"
    }
   ],
   "source": [
    "print(\"Total number of categories: \", len(df_explode.categories.value_counts()))\n",
    "print(\"Top 10 categories:\")\n",
    "df_explode.categories.value_counts()[:10]"
   ]
  },
  {
   "cell_type": "markdown",
   "metadata": {},
   "source": [
    "### Let's call it df_fb for food & beverage businesses "
   ]
  },
  {
   "cell_type": "code",
   "execution_count": 17,
   "metadata": {},
   "outputs": [],
   "source": [
    "df_fb = df_b[df_b['categories'].str.contains('Restaurants|Nightlife|Food')]"
   ]
  },
  {
   "cell_type": "code",
   "execution_count": 19,
   "metadata": {},
   "outputs": [
    {
     "data": {
      "text/html": [
       "<div>\n",
       "<style scoped>\n",
       "    .dataframe tbody tr th:only-of-type {\n",
       "        vertical-align: middle;\n",
       "    }\n",
       "\n",
       "    .dataframe tbody tr th {\n",
       "        vertical-align: top;\n",
       "    }\n",
       "\n",
       "    .dataframe thead th {\n",
       "        text-align: right;\n",
       "    }\n",
       "</style>\n",
       "<table border=\"1\" class=\"dataframe\">\n",
       "  <thead>\n",
       "    <tr style=\"text-align: right;\">\n",
       "      <th></th>\n",
       "      <th>business_id</th>\n",
       "      <th>name</th>\n",
       "      <th>city</th>\n",
       "      <th>review_count</th>\n",
       "      <th>attributes</th>\n",
       "      <th>categories</th>\n",
       "      <th>cat_list</th>\n",
       "      <th>num_categories</th>\n",
       "    </tr>\n",
       "  </thead>\n",
       "  <tbody>\n",
       "    <tr>\n",
       "      <th>0</th>\n",
       "      <td>6iYb2HFDywm3zjuRg0shjw</td>\n",
       "      <td>Oskar Blues Taproom</td>\n",
       "      <td>Boulder</td>\n",
       "      <td>86</td>\n",
       "      <td>{'RestaurantsTableService': 'True', 'WiFi': 'u...</td>\n",
       "      <td>Gastropubs, Food, Beer Gardens, Restaurants, B...</td>\n",
       "      <td>[Gastropubs, Food, Beer Gardens, Restaurants, ...</td>\n",
       "      <td>9</td>\n",
       "    </tr>\n",
       "    <tr>\n",
       "      <th>1</th>\n",
       "      <td>tCbdrRPZA0oiIYSmHG3J0w</td>\n",
       "      <td>Flying Elephants at PDX</td>\n",
       "      <td>Portland</td>\n",
       "      <td>126</td>\n",
       "      <td>{'RestaurantsTakeOut': 'True', 'RestaurantsAtt...</td>\n",
       "      <td>Salad, Soup, Sandwiches, Delis, Restaurants, C...</td>\n",
       "      <td>[Salad, Soup, Sandwiches, Delis, Restaurants, ...</td>\n",
       "      <td>7</td>\n",
       "    </tr>\n",
       "    <tr>\n",
       "      <th>5</th>\n",
       "      <td>D4JtQNTI4X3KcbzacDJsMw</td>\n",
       "      <td>Bob Likes Thai Food</td>\n",
       "      <td>Vancouver</td>\n",
       "      <td>169</td>\n",
       "      <td>{'GoodForKids': 'True', 'Alcohol': 'u'none'', ...</td>\n",
       "      <td>Restaurants, Thai</td>\n",
       "      <td>[Restaurants, Thai]</td>\n",
       "      <td>2</td>\n",
       "    </tr>\n",
       "    <tr>\n",
       "      <th>7</th>\n",
       "      <td>jFYIsSb7r1QeESVUnXPHBw</td>\n",
       "      <td>Boxwood Biscuit</td>\n",
       "      <td>Columbus</td>\n",
       "      <td>11</td>\n",
       "      <td>None</td>\n",
       "      <td>Breakfast &amp; Brunch, Restaurants</td>\n",
       "      <td>[Breakfast &amp; Brunch, Restaurants]</td>\n",
       "      <td>2</td>\n",
       "    </tr>\n",
       "  </tbody>\n",
       "</table>\n",
       "</div>"
      ],
      "text/plain": [
       "              business_id                     name       city  review_count  \\\n",
       "0  6iYb2HFDywm3zjuRg0shjw      Oskar Blues Taproom    Boulder            86   \n",
       "1  tCbdrRPZA0oiIYSmHG3J0w  Flying Elephants at PDX   Portland           126   \n",
       "5  D4JtQNTI4X3KcbzacDJsMw      Bob Likes Thai Food  Vancouver           169   \n",
       "7  jFYIsSb7r1QeESVUnXPHBw          Boxwood Biscuit   Columbus            11   \n",
       "\n",
       "                                          attributes  \\\n",
       "0  {'RestaurantsTableService': 'True', 'WiFi': 'u...   \n",
       "1  {'RestaurantsTakeOut': 'True', 'RestaurantsAtt...   \n",
       "5  {'GoodForKids': 'True', 'Alcohol': 'u'none'', ...   \n",
       "7                                               None   \n",
       "\n",
       "                                          categories  \\\n",
       "0  Gastropubs, Food, Beer Gardens, Restaurants, B...   \n",
       "1  Salad, Soup, Sandwiches, Delis, Restaurants, C...   \n",
       "5                                  Restaurants, Thai   \n",
       "7                    Breakfast & Brunch, Restaurants   \n",
       "\n",
       "                                            cat_list  num_categories  \n",
       "0  [Gastropubs, Food, Beer Gardens, Restaurants, ...               9  \n",
       "1  [Salad, Soup, Sandwiches, Delis, Restaurants, ...               7  \n",
       "5                                [Restaurants, Thai]               2  \n",
       "7                  [Breakfast & Brunch, Restaurants]               2  "
      ]
     },
     "execution_count": 19,
     "metadata": {},
     "output_type": "execute_result"
    }
   ],
   "source": [
    "df_fb.head(4)"
   ]
  },
  {
   "cell_type": "markdown",
   "metadata": {},
   "source": [
    "# Loading Review dataset in chunks"
   ]
  },
  {
   "cell_type": "code",
   "execution_count": 20,
   "metadata": {},
   "outputs": [],
   "source": [
    "size = 1000000\n",
    "review = pd.read_json(review_json_path, lines=True,\n",
    "                      dtype={'review_id':str,'user_id':str,\n",
    "                             'business_id':str,'stars':int,\n",
    "                             'date':str,'text':str,'useful':int,\n",
    "                             'funny':int,'cool':int},\n",
    "                      chunksize=size)"
   ]
  },
  {
   "cell_type": "code",
   "execution_count": 21,
   "metadata": {},
   "outputs": [
    {
     "name": "stdout",
     "output_type": "stream",
     "text": [
      "458003 out of 1,000,000 related reviews\n",
      "443723 out of 1,000,000 related reviews\n",
      "450772 out of 1,000,000 related reviews\n",
      "450439 out of 1,000,000 related reviews\n",
      "441251 out of 1,000,000 related reviews\n",
      "450514 out of 1,000,000 related reviews\n",
      "450094 out of 1,000,000 related reviews\n",
      "446095 out of 1,000,000 related reviews\n",
      "282068 out of 1,000,000 related reviews\n"
     ]
    }
   ],
   "source": [
    "chunk_list = []\n",
    "for chunk_review in review:\n",
    "    \n",
    "    # drop columns that aren't needed\n",
    "    chunk_review = chunk_review.drop(['review_id','useful','funny','cool'], axis=1)\n",
    "    \n",
    "    # renaming column name to avoid conflict with business overall star rating\n",
    "    chunk_review = chunk_review.rename(columns={'stars': 'review_stars'})\n",
    "    \n",
    "    # keep only 3 star reviews and above\n",
    "    # https://rpubs.com/Belethia/108750#s2_1 found that only +ve reviews tend to talk about food, ingredients themselves\n",
    "    # So we keep only these reviews that will be useful for measuring cosine similarity between cuisines\n",
    "    chunk_review = chunk_review[chunk_review.review_stars >= 3]\n",
    "    \n",
    "    # inner merge with edited business file so only reviews related to the business remain\n",
    "    chunk_merged = pd.merge(df_fb, chunk_review, on='business_id', how='inner')\n",
    "    \n",
    "    # feedback on progress\n",
    "    print(f\"{chunk_merged.shape[0]} out of {size:,} related reviews\")\n",
    "    \n",
    "    chunk_list.append(chunk_merged)\n",
    "    \n",
    "# concatenate all relevant data back to one dataframe\n",
    "df = pd.concat(chunk_list, ignore_index=True, join='outer', axis=0)"
   ]
  },
  {
   "cell_type": "code",
   "execution_count": 22,
   "metadata": {},
   "outputs": [
    {
     "data": {
      "text/plain": [
       "3872959"
      ]
     },
     "execution_count": 22,
     "metadata": {},
     "output_type": "execute_result"
    }
   ],
   "source": [
    "len(df)"
   ]
  },
  {
   "cell_type": "code",
   "execution_count": 23,
   "metadata": {},
   "outputs": [
    {
     "data": {
      "text/html": [
       "<div>\n",
       "<style scoped>\n",
       "    .dataframe tbody tr th:only-of-type {\n",
       "        vertical-align: middle;\n",
       "    }\n",
       "\n",
       "    .dataframe tbody tr th {\n",
       "        vertical-align: top;\n",
       "    }\n",
       "\n",
       "    .dataframe thead th {\n",
       "        text-align: right;\n",
       "    }\n",
       "</style>\n",
       "<table border=\"1\" class=\"dataframe\">\n",
       "  <thead>\n",
       "    <tr style=\"text-align: right;\">\n",
       "      <th></th>\n",
       "      <th>business_id</th>\n",
       "      <th>name</th>\n",
       "      <th>city</th>\n",
       "      <th>review_count</th>\n",
       "      <th>attributes</th>\n",
       "      <th>categories</th>\n",
       "      <th>cat_list</th>\n",
       "      <th>num_categories</th>\n",
       "      <th>user_id</th>\n",
       "      <th>review_stars</th>\n",
       "      <th>text</th>\n",
       "      <th>date</th>\n",
       "    </tr>\n",
       "  </thead>\n",
       "  <tbody>\n",
       "    <tr>\n",
       "      <th>0</th>\n",
       "      <td>6iYb2HFDywm3zjuRg0shjw</td>\n",
       "      <td>Oskar Blues Taproom</td>\n",
       "      <td>Boulder</td>\n",
       "      <td>86</td>\n",
       "      <td>{'RestaurantsTableService': 'True', 'WiFi': 'u...</td>\n",
       "      <td>Gastropubs, Food, Beer Gardens, Restaurants, B...</td>\n",
       "      <td>[Gastropubs, Food, Beer Gardens, Restaurants, ...</td>\n",
       "      <td>9</td>\n",
       "      <td>93z0yh-sUpGZS-cSKu6xxA</td>\n",
       "      <td>5</td>\n",
       "      <td>Stopped in on a busy Friday night. Despite the...</td>\n",
       "      <td>2018-03-04 00:59:21</td>\n",
       "    </tr>\n",
       "    <tr>\n",
       "      <th>1</th>\n",
       "      <td>6iYb2HFDywm3zjuRg0shjw</td>\n",
       "      <td>Oskar Blues Taproom</td>\n",
       "      <td>Boulder</td>\n",
       "      <td>86</td>\n",
       "      <td>{'RestaurantsTableService': 'True', 'WiFi': 'u...</td>\n",
       "      <td>Gastropubs, Food, Beer Gardens, Restaurants, B...</td>\n",
       "      <td>[Gastropubs, Food, Beer Gardens, Restaurants, ...</td>\n",
       "      <td>9</td>\n",
       "      <td>rqxTSFFj5fZNmabY1fmTlw</td>\n",
       "      <td>5</td>\n",
       "      <td>This was the place the be on Friday Night! If ...</td>\n",
       "      <td>2018-03-17 14:22:48</td>\n",
       "    </tr>\n",
       "  </tbody>\n",
       "</table>\n",
       "</div>"
      ],
      "text/plain": [
       "              business_id                 name     city  review_count  \\\n",
       "0  6iYb2HFDywm3zjuRg0shjw  Oskar Blues Taproom  Boulder            86   \n",
       "1  6iYb2HFDywm3zjuRg0shjw  Oskar Blues Taproom  Boulder            86   \n",
       "\n",
       "                                          attributes  \\\n",
       "0  {'RestaurantsTableService': 'True', 'WiFi': 'u...   \n",
       "1  {'RestaurantsTableService': 'True', 'WiFi': 'u...   \n",
       "\n",
       "                                          categories  \\\n",
       "0  Gastropubs, Food, Beer Gardens, Restaurants, B...   \n",
       "1  Gastropubs, Food, Beer Gardens, Restaurants, B...   \n",
       "\n",
       "                                            cat_list  num_categories  \\\n",
       "0  [Gastropubs, Food, Beer Gardens, Restaurants, ...               9   \n",
       "1  [Gastropubs, Food, Beer Gardens, Restaurants, ...               9   \n",
       "\n",
       "                  user_id  review_stars  \\\n",
       "0  93z0yh-sUpGZS-cSKu6xxA             5   \n",
       "1  rqxTSFFj5fZNmabY1fmTlw             5   \n",
       "\n",
       "                                                text                 date  \n",
       "0  Stopped in on a busy Friday night. Despite the...  2018-03-04 00:59:21  \n",
       "1  This was the place the be on Friday Night! If ...  2018-03-17 14:22:48  "
      ]
     },
     "execution_count": 23,
     "metadata": {},
     "output_type": "execute_result"
    }
   ],
   "source": [
    "df.head(2)"
   ]
  },
  {
   "cell_type": "markdown",
   "metadata": {},
   "source": [
    "# For each cuisine required, output the subset of concatenated reviews\n",
    "\n",
    "For future use/reference, this might be useful to have the individual file level"
   ]
  },
  {
   "cell_type": "code",
   "execution_count": 30,
   "metadata": {},
   "outputs": [],
   "source": [
    "search_terms = [\"Fast Food\", \"American\", \"Sandwich\", \"Pizza\", \"Burgers\", \"American|European\", \n",
    "\"Cake|Bake\", \"Dessert\", \"Juice|Drinks|Smoothies|Shakes\", \"Halal\", \"Chicken\", \"Seafood\", \n",
    "\"Vegetarian\", \"Health\", \"Chinese\", \"Thai\", \"Indian\", \"Indonesian\", \"Filipino\", \"Asian\", \"Vietnamese\", \n",
    "\"Malay\", \"Malaysian\", \"Singaporean\", \"Portuguese\", \"Japanese\", \"Sushi\", \"Korean\", \n",
    "\"African|South American|European\", \"Italian\", \"French\", \"European\", \"German\", \"Mexican\", \n",
    "\"Turkish\", \"Middle Eastern\", \"Mediterranean\"]"
   ]
  },
  {
   "cell_type": "code",
   "execution_count": 31,
   "metadata": {},
   "outputs": [],
   "source": [
    "file_names = [\"Fast Food\", \"American\", \"Sandwiches\", \"Pizza\", \"Burgers\", \"Western\", \n",
    "\"Cake & Bakery\", \"Desserts\", \"Non-alcoholic Drinks\", \"Halal\", \"Chicken\", \"Seafood\", \n",
    "\"Vegetarian\", \"Healthy Food\", \"Chinese\", \"Thai\", \"Indian\", \"Indonesian\", \"Filipino\", \"Asian\", \"Vietnamese\", \n",
    "\"Malay\", \"Malaysian\", \"Singaporean\", \"Melaka Portuguese\", \"Japanese\", \"Sushi\", \"Korean\", \n",
    "\"International\", \"Italian\", \"French\", \"European\", \"German\", \"Mexican\", \n",
    "\"Turkish\", \"Middle Eastern\", \"Mediterranean\"]"
   ]
  },
  {
   "cell_type": "code",
   "execution_count": 36,
   "metadata": {},
   "outputs": [],
   "source": [
    "for i in range(37):\n",
    "    df[df.categories.str.contains(search_terms[i])].text.to_csv(f'data/{file_names[i]}.txt', \n",
    "                                                               sep='\\n', index=False, header=False)"
   ]
  },
  {
   "cell_type": "markdown",
   "metadata": {},
   "source": [
    "# Convert a dataframe of all cuisine reveiws into a TfIdf DTM"
   ]
  },
  {
   "cell_type": "code",
   "execution_count": 37,
   "metadata": {},
   "outputs": [],
   "source": [
    "from collections import defaultdict\n",
    "from pathlib import Path\n",
    "import pandas as df"
   ]
  },
  {
   "cell_type": "code",
   "execution_count": 38,
   "metadata": {},
   "outputs": [],
   "source": [
    "data_path = \"data\"\n",
    "\n",
    "input_data = defaultdict(list)\n",
    "\n",
    "for file in Path(data_path).iterdir():\n",
    "    with open(file, \"r\") as file_open:\n",
    "        input_data[\"file_name\"].append(file.name)\n",
    "        input_data[\"text\"].append(file_open.read())\n",
    "        \n",
    "text_data = pd.DataFrame(input_data)"
   ]
  },
  {
   "cell_type": "code",
   "execution_count": 40,
   "metadata": {},
   "outputs": [
    {
     "data": {
      "text/html": [
       "<div>\n",
       "<style scoped>\n",
       "    .dataframe tbody tr th:only-of-type {\n",
       "        vertical-align: middle;\n",
       "    }\n",
       "\n",
       "    .dataframe tbody tr th {\n",
       "        vertical-align: top;\n",
       "    }\n",
       "\n",
       "    .dataframe thead th {\n",
       "        text-align: right;\n",
       "    }\n",
       "</style>\n",
       "<table border=\"1\" class=\"dataframe\">\n",
       "  <thead>\n",
       "    <tr style=\"text-align: right;\">\n",
       "      <th></th>\n",
       "      <th>file_name</th>\n",
       "      <th>text</th>\n",
       "    </tr>\n",
       "  </thead>\n",
       "  <tbody>\n",
       "    <tr>\n",
       "      <th>0</th>\n",
       "      <td>Filipino.txt</td>\n",
       "      <td>We just moved to Oregon from San Diego and we'...</td>\n",
       "    </tr>\n",
       "    <tr>\n",
       "      <th>1</th>\n",
       "      <td>Indonesian.txt</td>\n",
       "      <td>\"I went here last Sunday (Aug 3rd) and their f...</td>\n",
       "    </tr>\n",
       "    <tr>\n",
       "      <th>2</th>\n",
       "      <td>German.txt</td>\n",
       "      <td>\"I went there tonight for my second time. I ju...</td>\n",
       "    </tr>\n",
       "    <tr>\n",
       "      <th>3</th>\n",
       "      <td>Japanese.txt</td>\n",
       "      <td>\"\"\"We'll cross that bridge when we get there.\"...</td>\n",
       "    </tr>\n",
       "    <tr>\n",
       "      <th>4</th>\n",
       "      <td>Fast Food.txt</td>\n",
       "      <td>I have always had great food and great service...</td>\n",
       "    </tr>\n",
       "  </tbody>\n",
       "</table>\n",
       "</div>"
      ],
      "text/plain": [
       "        file_name                                               text\n",
       "0    Filipino.txt  We just moved to Oregon from San Diego and we'...\n",
       "1  Indonesian.txt  \"I went here last Sunday (Aug 3rd) and their f...\n",
       "2      German.txt  \"I went there tonight for my second time. I ju...\n",
       "3    Japanese.txt  \"\"\"We'll cross that bridge when we get there.\"...\n",
       "4   Fast Food.txt  I have always had great food and great service..."
      ]
     },
     "execution_count": 40,
     "metadata": {},
     "output_type": "execute_result"
    }
   ],
   "source": [
    "text_data.head(5)"
   ]
  },
  {
   "cell_type": "code",
   "execution_count": null,
   "metadata": {},
   "outputs": [],
   "source": []
  }
 ],
 "metadata": {
  "kernelspec": {
   "display_name": "Python 3",
   "language": "python",
   "name": "python3"
  },
  "language_info": {
   "codemirror_mode": {
    "name": "ipython",
    "version": 3
   },
   "file_extension": ".py",
   "mimetype": "text/x-python",
   "name": "python",
   "nbconvert_exporter": "python",
   "pygments_lexer": "ipython3",
   "version": "3.8.5"
  },
  "toc": {
   "base_numbering": 1,
   "nav_menu": {},
   "number_sections": true,
   "sideBar": true,
   "skip_h1_title": false,
   "title_cell": "Table of Contents",
   "title_sidebar": "Contents",
   "toc_cell": true,
   "toc_position": {},
   "toc_section_display": true,
   "toc_window_display": true
  }
 },
 "nbformat": 4,
 "nbformat_minor": 4
}
